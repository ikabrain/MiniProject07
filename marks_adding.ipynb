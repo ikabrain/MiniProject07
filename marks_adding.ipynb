{
  "nbformat": 4,
  "nbformat_minor": 0,
  "metadata": {
    "colab": {
      "provenance": [],
      "authorship_tag": "ABX9TyOkUo6r15DZyXPbOy/UhnBY",
      "include_colab_link": true
    },
    "kernelspec": {
      "name": "python3",
      "display_name": "Python 3"
    },
    "language_info": {
      "name": "python"
    }
  },
  "cells": [
    {
      "cell_type": "markdown",
      "metadata": {
        "id": "view-in-github",
        "colab_type": "text"
      },
      "source": [
        "<a href=\"https://colab.research.google.com/github/ikabrain/MiniProject07/blob/main/marks_adding.ipynb\" target=\"_parent\"><img src=\"https://colab.research.google.com/assets/colab-badge.svg\" alt=\"Open In Colab\"/></a>"
      ]
    },
    {
      "cell_type": "markdown",
      "source": [
        "---\n",
        "# Mini Project - Marks Adding\n",
        "---\n",
        " - **Input file** containing roll number and marks.\n",
        " - Create **output file** that adds all the marks\n",
        "\n",
        "![image](https://private-user-images.githubusercontent.com/7460892/243881755-9be14aa0-eaa0-403a-9575-32771724f0e2.png?jwt=eyJhbGciOiJIUzI1NiIsInR5cCI6IkpXVCJ9.eyJpc3MiOiJnaXRodWIuY29tIiwiYXVkIjoicmF3LmdpdGh1YnVzZXJjb250ZW50LmNvbSIsImtleSI6ImtleTUiLCJleHAiOjE3NDk3OTQ1MzIsIm5iZiI6MTc0OTc5NDIzMiwicGF0aCI6Ii83NDYwODkyLzI0Mzg4MTc1NS05YmUxNGFhMC1lYWEwLTQwM2EtOTU3NS0zMjc3MTcyNGYwZTIucG5nP1gtQW16LUFsZ29yaXRobT1BV1M0LUhNQUMtU0hBMjU2JlgtQW16LUNyZWRlbnRpYWw9QUtJQVZDT0RZTFNBNTNQUUs0WkElMkYyMDI1MDYxMyUyRnVzLWVhc3QtMSUyRnMzJTJGYXdzNF9yZXF1ZXN0JlgtQW16LURhdGU9MjAyNTA2MTNUMDU1NzEyWiZYLUFtei1FeHBpcmVzPTMwMCZYLUFtei1TaWduYXR1cmU9ZTA4MGUwODBjMGFhYWM2MGYxMDI5YTNlMDZmM2RjZWM3OTgxYmE4Y2NiZTFmNjdlZGNkY2RjYTNjYzM4OGY3MyZYLUFtei1TaWduZWRIZWFkZXJzPWhvc3QifQ.qVkc5VSu1HxyH8U8J16HXQaj3tptBdGclaYyyYHtHuI)"
      ],
      "metadata": {
        "id": "kW1mfWhw2bQ6"
      }
    },
    {
      "cell_type": "code",
      "source": [
        "import csv\n",
        "\n",
        "\n",
        "headers = []; result = dict()\n",
        "\n",
        "with open(\"marks.csv\", \"r\") as fp:\n",
        "    csvreader = csv.reader(fp) # SEQUENCE OF LISTS\n",
        "    headers = next(csvreader) # skips column titles\n",
        "\n",
        "    for rollno, marks in csvreader: # rollno = row[0], marks = row[1]\n",
        "        if int(rollno) in result:\n",
        "            result[int(rollno)] += int(marks)\n",
        "        else:\n",
        "            result[int(rollno)] = int(marks)\n",
        "\n",
        "\n",
        "with open(\"output.csv\", \"w\") as fp:\n",
        "    csvwriter = csv.writer(fp)\n",
        "    csvwriter.writerow(headers)\n",
        "    for rno, marks in result.items():\n",
        "        csvwriter.writerow([rno, marks])"
      ],
      "metadata": {
        "id": "Wc01u_Zm3clu"
      },
      "execution_count": 13,
      "outputs": []
    }
  ]
}